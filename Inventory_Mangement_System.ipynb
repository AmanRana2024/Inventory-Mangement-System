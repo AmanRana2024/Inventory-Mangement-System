{
 "cells": [
  {
   "cell_type": "code",
   "execution_count": 27,
   "id": "98d3c3e3-f5f9-40d8-a05a-75decbfca99f",
   "metadata": {},
   "outputs": [],
   "source": [
    "fd = open(\"Inventory.txt\",'w')\n",
    "fd.close()"
   ]
  },
  {
   "cell_type": "markdown",
   "id": "8f873922-01b0-4b68-8cd3-80231d49830b",
   "metadata": {},
   "source": [
    "## GAMES AVAILIABLE\n",
    "\n",
    "1. CALL OF DUTY BLACK OPS III\n",
    "2. GRAND THEFT AUTO V\n",
    "3. MARVEL'S SPIDER MAN 2\n",
    "4. NEED FOR SPEED UNBOUND\n",
    "5. WWE 2K25"
   ]
  },
  {
   "cell_type": "code",
   "execution_count": 30,
   "id": "c0dab1fe-d9da-46d4-8974-8f6c086b4d25",
   "metadata": {},
   "outputs": [],
   "source": [
    "fd = open(\"Inventory.txt\",'r')\n",
    "products = fd.read().split('\\n')\n",
    "fd.close()"
   ]
  },
  {
   "cell_type": "code",
   "execution_count": 32,
   "id": "87b03e40-8454-4d61-9940-392a16443d1a",
   "metadata": {},
   "outputs": [
    {
     "name": "stdout",
     "output_type": "stream",
     "text": [
      "1,Call Of Duty Black Ops III, 4499, 10,\n",
      "2,GTA V, 1299, 13,\n",
      "3,Spider Man 2, 4999, 10,\n",
      "4,NFS Unbound, 459, 20,\n",
      "5,WWE 2k25, 2599, 10\n",
      "6,colgate,95,5\n",
      "7,Snickers,25,20\n",
      "8,tic tac,10,25\n",
      "9,Cadbury Dark chocolate,110,10\n"
     ]
    }
   ],
   "source": [
    "for product in products:\n",
    "    print(product)"
   ]
  },
  {
   "cell_type": "code",
   "execution_count": 34,
   "id": "26bd746c-6e2f-4e77-b878-9ee21e71b13f",
   "metadata": {},
   "outputs": [
    {
     "name": "stdin",
     "output_type": "stream",
     "text": [
      "Please Enter your Name:  asd\n",
      "Please Enter your Phone Number:  45645645\n",
      "Please Enter your E-Mail:  asd@gmail.com\n",
      "Please enter The Product ID:  9\n",
      "please enter The Product Quantity:  11\n"
     ]
    },
    {
     "name": "stdout",
     "output_type": "stream",
     "text": [
      "Sorry for the interruption but the product Quantity you are looking for the product: Cadbury Dark chocolate is currently not availaible!\n",
      "If you have any trouble you can go through the details mentioned below for the product!\n",
      "Currently we do not have the quantity you are looking for the product Cadbury Dark chocolate but we can offer the remaining quantity:  10\n",
      "Would you like to purchase it? Press Y for Yes and N for No below.\n"
     ]
    },
    {
     "name": "stdin",
     "output_type": "stream",
     "text": [
      "Press Y/N:  y\n"
     ]
    },
    {
     "name": "stdout",
     "output_type": "stream",
     "text": [
      "------------------------------------------\n",
      "Product:  Cadbury Dark chocolate\n",
      "Price:  110\n",
      "Product Quantity Looking for:  11\n",
      "Product Quantity Availiable:  10\n",
      "------------------------------------------\n",
      "Unavaliable Amount:   1210\n",
      "------------------------------------------\n",
      "Availiable Amount to Pay:  1100\n",
      "------------------------------------------\n"
     ]
    }
   ],
   "source": [
    "import time\n",
    "\n",
    "user_Name = input(\"Please Enter your Name: \")\n",
    "user_Phone = input(\"Please Enter your Phone Number: \")\n",
    "user_Mail_Id = input(\"Please Enter your E-Mail: \")\n",
    "Product_Id = input(\"Please enter The Product ID: \")\n",
    "product_Quantity = input(\"please enter The Product Quantity: \")\n",
    "\n",
    "Updated_lst = []\n",
    "\n",
    "for product in products:\n",
    "\n",
    "    product_details = product.split(',')\n",
    "    if (product_details[0] == Product_Id):\n",
    "\n",
    "        if int(product_Quantity) <= int(product_details[3]):\n",
    "\n",
    "            print(\"------------------------------------------\")\n",
    "            print(\"Product: \", product_details[1])\n",
    "            print(\"Price: \", product_details[2])\n",
    "            print(\"Product Quantity: \", product_Quantity)\n",
    "            print(\"------------------------------------------\")\n",
    "            print(\"Amount to pay:  \", int(product_details[2]) * int(product_Quantity))\n",
    "            print(\"------------------------------------------\")\n",
    "            product_details[3] = str(int(product_details[3]) - int(product_Quantity))\n",
    "\n",
    "            fd = open(\"Sales.txt\",'a')\n",
    "            prod_sales = user_Name + ',' + user_Phone + ',' + user_Mail_Id + ',' + Product_Id + ',' + product_details[1] + ',' + product_Quantity + ',' + str(int(product_details[2]) * int(product_Quantity)) + ',' + time.ctime() + \"\\n\"\n",
    "            fd.write(prod_sales)\n",
    "            fd.close()\n",
    "        else:\n",
    "            print(\"Sorry for the interruption but the product Quantity you are looking for the product:\", product_details[1], \"is currently not availaible!\")\n",
    "            print(\"If you have any trouble you can go through the details mentioned below for the product!\")\n",
    "            print(\"Currently we do not have the quantity you are looking for the product\", product_details[1] ,\"but we can offer the remaining quantity: \", product_details[3])\n",
    "            print(\"Would you like to purchase it? Press Y for Yes and N for No below.\")\n",
    "            ch = input(\"Press Y/N: \")\n",
    "            \n",
    "            if (ch == 'Y' or ch == 'y'):\n",
    "                print(\"------------------------------------------\")\n",
    "                print(\"Product: \", product_details[1])\n",
    "                print(\"Price: \", product_details[2])\n",
    "                print(\"Product Quantity Looking for: \", product_Quantity)\n",
    "                print(\"Product Quantity Availiable: \", product_details[3])\n",
    "                print(\"------------------------------------------\")\n",
    "                print(\"Unavaliable Amount:  \", int(product_details[2]) * int(product_Quantity))\n",
    "                print(\"------------------------------------------\")\n",
    "                print(\"Availiable Amount to Pay: \",int(product_details[2]) * int(product_details[3]))\n",
    "                print(\"------------------------------------------\")\n",
    "                product_details[3] = '0'\n",
    "\n",
    "            else:\n",
    "                print(\"The Purchase Process has been cancelled!\")\n",
    "    Updated_lst.append(product_details)\n",
    "\n",
    "lst = []\n",
    "for i in Updated_lst:\n",
    "    prod = i[0] + ',' + i[1] + ',' + i[2] + ',' + i[3] + '\\n'\n",
    "    lst.append(prod)\n",
    "\n",
    "fd = open(\"Inventory.txt\",\"w\")\n",
    "\n",
    "for i in lst:\n",
    "    fd.write(i)\n",
    "\n",
    "fd.close()"
   ]
  },
  {
   "cell_type": "code",
   "execution_count": 36,
   "id": "9fc34cef-cea4-4e47-bb72-260396fd389e",
   "metadata": {},
   "outputs": [
    {
     "data": {
      "text/plain": [
       "[['1', 'Call Of Duty Black Ops III', ' 4499', ' 10', ''],\n",
       " ['2', 'GTA V', ' 1299', ' 13', ''],\n",
       " ['3', 'Spider Man 2', ' 4999', ' 10', ''],\n",
       " ['4', 'NFS Unbound', ' 459', ' 20', ''],\n",
       " ['5', 'WWE 2k25', ' 2599', ' 10'],\n",
       " ['6', 'colgate', '95', '5'],\n",
       " ['7', 'Snickers', '25', '20'],\n",
       " ['8', 'tic tac', '10', '25'],\n",
       " ['9', 'Cadbury Dark chocolate', '110', '0']]"
      ]
     },
     "execution_count": 36,
     "metadata": {},
     "output_type": "execute_result"
    }
   ],
   "source": [
    "Updated_lst"
   ]
  },
  {
   "cell_type": "code",
   "execution_count": 38,
   "id": "8cec7e3d-9d2a-47f4-bc0f-56b8bd331a16",
   "metadata": {},
   "outputs": [],
   "source": [
    "fd.close()"
   ]
  },
  {
   "cell_type": "code",
   "execution_count": null,
   "id": "2290be1d-093f-4a69-9890-850d94fa9520",
   "metadata": {},
   "outputs": [],
   "source": []
  }
 ],
 "metadata": {
  "kernelspec": {
   "display_name": "Python 3 (ipykernel)",
   "language": "python",
   "name": "python3"
  },
  "language_info": {
   "codemirror_mode": {
    "name": "ipython",
    "version": 3
   },
   "file_extension": ".py",
   "mimetype": "text/x-python",
   "name": "python",
   "nbconvert_exporter": "python",
   "pygments_lexer": "ipython3",
   "version": "3.12.4"
  }
 },
 "nbformat": 4,
 "nbformat_minor": 5
}
